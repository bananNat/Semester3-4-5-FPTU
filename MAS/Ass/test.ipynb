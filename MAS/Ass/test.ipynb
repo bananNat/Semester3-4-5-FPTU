{
 "cells": [
  {
   "cell_type": "code",
   "execution_count": 401,
   "metadata": {},
   "outputs": [
    {
     "data": {
      "text/html": [
       "<div>\n",
       "<style scoped>\n",
       "    .dataframe tbody tr th:only-of-type {\n",
       "        vertical-align: middle;\n",
       "    }\n",
       "\n",
       "    .dataframe tbody tr th {\n",
       "        vertical-align: top;\n",
       "    }\n",
       "\n",
       "    .dataframe thead th {\n",
       "        text-align: right;\n",
       "    }\n",
       "</style>\n",
       "<table border=\"1\" class=\"dataframe\">\n",
       "  <thead>\n",
       "    <tr style=\"text-align: right;\">\n",
       "      <th></th>\n",
       "      <th>id</th>\n",
       "      <th>nearc2</th>\n",
       "      <th>nearc4</th>\n",
       "      <th>educ</th>\n",
       "      <th>age</th>\n",
       "      <th>fatheduc</th>\n",
       "      <th>motheduc</th>\n",
       "      <th>weight</th>\n",
       "      <th>momdad14</th>\n",
       "      <th>sinmom14</th>\n",
       "      <th>...</th>\n",
       "      <th>smsa66</th>\n",
       "      <th>wage</th>\n",
       "      <th>enroll</th>\n",
       "      <th>KWW</th>\n",
       "      <th>IQ</th>\n",
       "      <th>married</th>\n",
       "      <th>libcrd14</th>\n",
       "      <th>exper</th>\n",
       "      <th>lwage</th>\n",
       "      <th>expersq</th>\n",
       "    </tr>\n",
       "  </thead>\n",
       "  <tbody>\n",
       "    <tr>\n",
       "      <th>313</th>\n",
       "      <td>520</td>\n",
       "      <td>0</td>\n",
       "      <td>1</td>\n",
       "      <td>9</td>\n",
       "      <td>25</td>\n",
       "      <td>12.0</td>\n",
       "      <td>11.0</td>\n",
       "      <td>410536</td>\n",
       "      <td>1</td>\n",
       "      <td>0</td>\n",
       "      <td>...</td>\n",
       "      <td>1</td>\n",
       "      <td>556</td>\n",
       "      <td>0</td>\n",
       "      <td>30.0</td>\n",
       "      <td>NaN</td>\n",
       "      <td>1.0</td>\n",
       "      <td>1.0</td>\n",
       "      <td>10</td>\n",
       "      <td>6.320768</td>\n",
       "      <td>100</td>\n",
       "    </tr>\n",
       "    <tr>\n",
       "      <th>914</th>\n",
       "      <td>1582</td>\n",
       "      <td>0</td>\n",
       "      <td>0</td>\n",
       "      <td>12</td>\n",
       "      <td>31</td>\n",
       "      <td>NaN</td>\n",
       "      <td>NaN</td>\n",
       "      <td>139912</td>\n",
       "      <td>0</td>\n",
       "      <td>0</td>\n",
       "      <td>...</td>\n",
       "      <td>1</td>\n",
       "      <td>800</td>\n",
       "      <td>0</td>\n",
       "      <td>37.0</td>\n",
       "      <td>95.0</td>\n",
       "      <td>4.0</td>\n",
       "      <td>0.0</td>\n",
       "      <td>13</td>\n",
       "      <td>6.684612</td>\n",
       "      <td>169</td>\n",
       "    </tr>\n",
       "    <tr>\n",
       "      <th>1007</th>\n",
       "      <td>1724</td>\n",
       "      <td>1</td>\n",
       "      <td>0</td>\n",
       "      <td>16</td>\n",
       "      <td>24</td>\n",
       "      <td>12.0</td>\n",
       "      <td>12.0</td>\n",
       "      <td>337974</td>\n",
       "      <td>1</td>\n",
       "      <td>0</td>\n",
       "      <td>...</td>\n",
       "      <td>0</td>\n",
       "      <td>385</td>\n",
       "      <td>0</td>\n",
       "      <td>39.0</td>\n",
       "      <td>106.0</td>\n",
       "      <td>1.0</td>\n",
       "      <td>1.0</td>\n",
       "      <td>2</td>\n",
       "      <td>5.953243</td>\n",
       "      <td>4</td>\n",
       "    </tr>\n",
       "    <tr>\n",
       "      <th>2359</th>\n",
       "      <td>4079</td>\n",
       "      <td>0</td>\n",
       "      <td>1</td>\n",
       "      <td>12</td>\n",
       "      <td>34</td>\n",
       "      <td>8.0</td>\n",
       "      <td>8.0</td>\n",
       "      <td>321797</td>\n",
       "      <td>1</td>\n",
       "      <td>0</td>\n",
       "      <td>...</td>\n",
       "      <td>1</td>\n",
       "      <td>577</td>\n",
       "      <td>0</td>\n",
       "      <td>41.0</td>\n",
       "      <td>99.0</td>\n",
       "      <td>1.0</td>\n",
       "      <td>1.0</td>\n",
       "      <td>16</td>\n",
       "      <td>6.357842</td>\n",
       "      <td>256</td>\n",
       "    </tr>\n",
       "    <tr>\n",
       "      <th>1281</th>\n",
       "      <td>2180</td>\n",
       "      <td>0</td>\n",
       "      <td>1</td>\n",
       "      <td>12</td>\n",
       "      <td>28</td>\n",
       "      <td>8.0</td>\n",
       "      <td>12.0</td>\n",
       "      <td>89240</td>\n",
       "      <td>1</td>\n",
       "      <td>0</td>\n",
       "      <td>...</td>\n",
       "      <td>1</td>\n",
       "      <td>588</td>\n",
       "      <td>0</td>\n",
       "      <td>25.0</td>\n",
       "      <td>104.0</td>\n",
       "      <td>1.0</td>\n",
       "      <td>1.0</td>\n",
       "      <td>10</td>\n",
       "      <td>6.376727</td>\n",
       "      <td>100</td>\n",
       "    </tr>\n",
       "  </tbody>\n",
       "</table>\n",
       "<p>5 rows × 34 columns</p>\n",
       "</div>"
      ],
      "text/plain": [
       "        id  nearc2  nearc4  educ  age  fatheduc  motheduc  weight  momdad14  \\\n",
       "313    520       0       1     9   25      12.0      11.0  410536         1   \n",
       "914   1582       0       0    12   31       NaN       NaN  139912         0   \n",
       "1007  1724       1       0    16   24      12.0      12.0  337974         1   \n",
       "2359  4079       0       1    12   34       8.0       8.0  321797         1   \n",
       "1281  2180       0       1    12   28       8.0      12.0   89240         1   \n",
       "\n",
       "      sinmom14  ...  smsa66  wage  enroll   KWW     IQ  married  libcrd14  \\\n",
       "313          0  ...       1   556       0  30.0    NaN      1.0       1.0   \n",
       "914          0  ...       1   800       0  37.0   95.0      4.0       0.0   \n",
       "1007         0  ...       0   385       0  39.0  106.0      1.0       1.0   \n",
       "2359         0  ...       1   577       0  41.0   99.0      1.0       1.0   \n",
       "1281         0  ...       1   588       0  25.0  104.0      1.0       1.0   \n",
       "\n",
       "      exper     lwage  expersq  \n",
       "313      10  6.320768      100  \n",
       "914      13  6.684612      169  \n",
       "1007      2  5.953243        4  \n",
       "2359     16  6.357842      256  \n",
       "1281     10  6.376727      100  \n",
       "\n",
       "[5 rows x 34 columns]"
      ]
     },
     "execution_count": 401,
     "metadata": {},
     "output_type": "execute_result"
    }
   ],
   "source": [
    "import pandas as pd\n",
    "from random import *\n",
    "import numpy as np\n",
    "from math import *\n",
    "import matplotlib.pyplot as plt\n",
    "from scipy.stats import norm, t\n",
    "from statistics  import *\n",
    "\n",
    "# Load the Excel file into a Pandas dataframe\n",
    "df = pd.read_excel('./wage.xlsx', sheet_name=\"wage\")\n",
    "sample_size = 30\n",
    "id = 241\n",
    "\n",
    "rannum = np.random.RandomState(id)\n",
    "sample = df.sample(n=sample_size,random_state=rannum)\n",
    "\n",
    "sample.head()"
   ]
  },
  {
   "cell_type": "code",
   "execution_count": 402,
   "metadata": {},
   "outputs": [
    {
     "name": "stdout",
     "output_type": "stream",
     "text": [
      "Result of question 1:  0.16274260339991206\n"
     ]
    }
   ],
   "source": [
    "#1.\tChoose a simple random sample with size of 30 from the population. What is the probability that there are six black ones.\n",
    "from scipy.stats import binom\n",
    "\n",
    "total_object = df.shape[0]\n",
    "black_prop = np.sum(df['black'] == 1) / total_object\n",
    "result_1 = binom.pmf(6, sample_size, black_prop)\n",
    "\n",
    "print(\"Result of question 1: \", result_1)\n"
   ]
  },
  {
   "cell_type": "code",
   "execution_count": 403,
   "metadata": {},
   "outputs": [
    {
     "name": "stdout",
     "output_type": "stream",
     "text": [
      "Result of question 2:  0.598122427983539\n"
     ]
    }
   ],
   "source": [
    "#2.\tChoose 5 people in your subsample randomly. Find the probability that there is at least one black.\n",
    "black_prop = np.sum(sample['black'] == 1) / sample_size\n",
    "result_2 = 1 - (1-black_prop)**5\n",
    "\n",
    "print(\"Result of question 2: \", result_2)"
   ]
  },
  {
   "cell_type": "code",
   "execution_count": 404,
   "metadata": {},
   "outputs": [
    {
     "name": "stdout",
     "output_type": "stream",
     "text": [
      "The proportion of blacks in the population:  0.2335548172757475\n",
      "Number of black expected in the sample:  7.0066445182724255\n",
      "True number of black in the sample data:  5\n"
     ]
    }
   ],
   "source": [
    "# 3.\tSuppose that the proportion of blacks in the population equals the proportion of backs in your subsample. \n",
    "# a.\tHow many blacks do you expect in your subsample?\n",
    "# b.\tHow many blacks are in the data?\n",
    "black_prop = np.sum(df['black'] == 1) / total_object\n",
    "print(\"The proportion of blacks in the population: \", black_prop)\n",
    "\n",
    "print(\"Number of black expected in the sample: \", black_prop*sample_size)\n",
    "print(\"True number of black in the sample data: \", np.sum(sample['black'] == 1))"
   ]
  },
  {
   "cell_type": "code",
   "execution_count": 405,
   "metadata": {},
   "outputs": [
    {
     "name": "stdout",
     "output_type": "stream",
     "text": [
      "Population mean due to educ property(also sample mean):  0.159468438538206\n",
      "Result of question 4:  0.13596229254626138\n"
     ]
    }
   ],
   "source": [
    "#4.\tSuppose that number of education (educ) is a discrete random variable that has a Poisson distribution such that its mean equals to the sample mean in your subsample. If we randomly choose a person, what is the probability that he/she has 6 years in education?\n",
    "educ_6_prop = np.sum(df['educ'] == 6) / total_object\n",
    "mean = 30* educ_6_prop\n",
    "\n",
    "print(\"Population mean due to educ property(also sample mean): \", mean)\n",
    "k = 1\n",
    "# Posson Distribution to calculate result\n",
    "# Mean equal to lambda\n",
    "result_4 = (mean**k) * e**(-mean) / factorial(k)\n",
    "print(\"Result of question 4: \", result_4)"
   ]
  },
  {
   "cell_type": "code",
   "execution_count": 406,
   "metadata": {},
   "outputs": [
    {
     "name": "stdout",
     "output_type": "stream",
     "text": [
      "Mean of the age:  29.0\n",
      "Variance of the age:  10.0\n",
      "Mean of the age in subsample:  28.066666666666666\n",
      "Mean of the age in subsample:  11.581609195402299\n"
     ]
    },
    {
     "data": {
      "image/png": "[encoded data removed]",
      "text/plain": [
       "<Figure size 640x480 with 1 Axes>"
      ]
     },
     "metadata": {},
     "output_type": "display_data"
    },
    {
     "name": "stdout",
     "output_type": "stream",
     "text": [
      "Conclusion: It is not Uniform Distribution\n"
     ]
    }
   ],
   "source": [
    "#5.\tAssume age is an integer-valued discrete uniform random variable, 24 ≤ age ≤ 34. Find the mean and the variance of age. Compare these corresponding values to the values in your subsample. Create the bar chart for age. Is age a uniform distribution?\n",
    "\n",
    "# Assume discrete uniform random variable\n",
    "a, b = 24, 34\n",
    "print(\"Mean of the age: \", (a + b)/2)\n",
    "print(\"Variance of the age: \", ((b-a+1)**2-1)/12)\n",
    "\n",
    "# Compare to my subsample\n",
    "print(\"Mean of the age in subsample: \", sample['age'].sum()/sample_size)\n",
    "# Compare to my subsample\n",
    "print(\"Mean of the age in subsample: \", sample['age'].std()**2)\n",
    "\n",
    "\n",
    "# Create histogram on age property\n",
    "plt.hist(sample['age'])\n",
    "# Add element\n",
    "plt.xlabel('Age')\n",
    "plt.ylabel('Count')\n",
    "plt.title('Distribution of age')\n",
    "# Print a bar chart\n",
    "plt.show()\n",
    "\n",
    "# Conclusion\n",
    "print(\"Conclusion: It is not Uniform Distribution\")\n"
   ]
  },
  {
   "cell_type": "code",
   "execution_count": 407,
   "metadata": {},
   "outputs": [
    {
     "name": "stdout",
     "output_type": "stream",
     "text": [
      "Result of question 6:  0.27519662472729256\n"
     ]
    }
   ],
   "source": [
    "# 6. Suppose that lwage is a normally distributed random variable with mean μ = 6.26 and standard deviation σ = 0.44. Find the probability P(5 < lwage < 6).\n",
    "\n",
    "mu = 6.26\n",
    "sigma = 0.44\n",
    "\n",
    "# N(6.26,0.44) -> N(0,1)\n",
    "result_6 = norm.cdf(6,mu,sigma) - norm.cdf(5,mu,sigma)\n",
    "print(\"Result of question 6: \", result_6)"
   ]
  },
  {
   "cell_type": "code",
   "execution_count": 408,
   "metadata": {},
   "outputs": [
    {
     "name": "stdout",
     "output_type": "stream",
     "text": [
      "Result of question 7a:  0.7469548646387064\n",
      "Result of question 7b:  237.8922584474499\n"
     ]
    }
   ],
   "source": [
    "# 7.\n",
    "# a. For your random sample of n = 20 observations. Find the probability that the sample mean of IQ lies in [100, 110].\n",
    "# b. How large must the random sample be if we want the standard error of the sample mean to be 1?\n",
    "\n",
    "# Calculate population mean and standard deviation\n",
    "mean = df['IQ'].mean()\n",
    "std_dev = df['IQ'].std()\n",
    "\n",
    "Z1 = (100-mean)/(std_dev/sqrt(20))\n",
    "Z2 = (110-mean)/(std_dev/sqrt(20))\n",
    "\n",
    "result_7a = norm.cdf(Z2,0,1) - norm.cdf(Z1,0,1)\n",
    "print(\"Result of question 7a: \", result_7a)\n",
    "\n",
    "std_error = 1\n",
    "result_7b = std_dev**2/std_error\n",
    "print(\"Result of question 7b: \", result_7b)\n"
   ]
  },
  {
   "cell_type": "code",
   "execution_count": 409,
   "metadata": {},
   "outputs": [
    {
     "name": "stdout",
     "output_type": "stream",
     "text": [
      "For wage property\n",
      "Sample mean:  536.5\n",
      "Sample variance:  43201.15517241379\n",
      "Sample standard deviation:  207.84887580262202\n",
      "For IQ property\n",
      "Sample mean:  100.84\n",
      "Sample variance:  283.5566666666666\n",
      "Sample standard deviation:  16.8391409123704\n",
      "For educ property\n",
      "Sample mean:  13.4\n",
      "Sample variance:  5.558620689655173\n",
      "Sample standard deviation:  2.3576727274274463\n",
      "For exper property\n",
      "Sample mean:  8.666666666666666\n",
      "Sample variance:  14.712643678160916\n",
      "Sample standard deviation:  3.8357064118830726\n"
     ]
    }
   ],
   "source": [
    "#8. Calculate the statistics for wage, IQ, educ and exper.\n",
    "# We have a sample with size 30 so now we will calculate this sample statistic(sample mean, sample variance and sample standard deviation)\n",
    "# for wage, IQ, educ and exper\n",
    "\n",
    "print(\"For wage property\")\n",
    "print(\"Sample mean: \", sample['wage'].mean())\n",
    "print(\"Sample variance: \", sample['wage'].std()**2)\n",
    "print(\"Sample standard deviation: \", sample['wage'].std())\n",
    "\n",
    "\n",
    "print(\"For IQ property\")\n",
    "print(\"Sample mean: \", sample['IQ'].mean())\n",
    "print(\"Sample variance: \", sample['IQ'].std()**2)\n",
    "print(\"Sample standard deviation: \", sample['IQ'].std())\n",
    "\n",
    "print(\"For educ property\")\n",
    "print(\"Sample mean: \", sample['educ'].mean())\n",
    "print(\"Sample variance: \", sample['educ'].std()**2)\n",
    "print(\"Sample standard deviation: \", sample['educ'].std())\n",
    "\n",
    "print(\"For exper property\")\n",
    "print(\"Sample mean: \", sample['exper'].mean())\n",
    "print(\"Sample variance: \", sample['exper'].std()**2)\n",
    "print(\"Sample standard deviation: \", sample['exper'].std())\n"
   ]
  },
  {
   "cell_type": "code",
   "execution_count": 410,
   "metadata": {},
   "outputs": [],
   "source": [
    "#9 \n"
   ]
  },
  {
   "cell_type": "code",
   "execution_count": 411,
   "metadata": {},
   "outputs": [
    {
     "name": "stdout",
     "output_type": "stream",
     "text": [
      "Result of question 10:  6.069885700814316  < μ <  6.384783870108535\n"
     ]
    }
   ],
   "source": [
    "#10. Suppose that lwage is a normally distributed random variable with standard deviation σ = 0.44. Construct a 95% confidence interval on the true mean lwage using data in your subsample.\n",
    "lwage_sample_mean = sample['lwage'].mean()\n",
    "\n",
    "# 95% construct CI -> alpha = 0.05\n",
    "alpha = 0.05\n",
    "z_alpha_half = norm.ppf(1-alpha/2)\n",
    "\n",
    "lower_CI = lwage_sample_mean - z_alpha_half*(0.44/sqrt(30))\n",
    "higher_CI = lwage_sample_mean + z_alpha_half*(0.44/sqrt(30))\n",
    "print(\"Result of question 10: \", lower_CI, \" < μ < \", higher_CI)\n"
   ]
  },
  {
   "cell_type": "code",
   "execution_count": 412,
   "metadata": {},
   "outputs": [
    {
     "name": "stdout",
     "output_type": "stream",
     "text": [
      "Result of question 11:  94.52596987089942  < μ <  107.15403012910059\n"
     ]
    }
   ],
   "source": [
    "#11. Construct a 96% confidence interval on the true mean IQ using data in the subsample. Assume that IQ is a normally distributed random variable.\n",
    "\n",
    "alpha = 0.04\n",
    "IQ_sample_mean = sample['IQ'].mean()\n",
    "z_alpha_half = norm.ppf(1-alpha/2)\n",
    "s = sample['IQ'].std()\n",
    "\n",
    "lower_CI = IQ_sample_mean - z_alpha_half*(s/sqrt(30))\n",
    "higher_CI = IQ_sample_mean + z_alpha_half*(s/sqrt(30))\n",
    "\n",
    "print(\"Result of question 11: \", lower_CI, \" < μ < \", higher_CI)"
   ]
  },
  {
   "cell_type": "code",
   "execution_count": 413,
   "metadata": {},
   "outputs": [
    {
     "name": "stdout",
     "output_type": "stream",
     "text": [
      "Result of question 12:  18.59266069215956\n"
     ]
    }
   ],
   "source": [
    "#12. If we want the error in estimating the mean lwage from the two-size confidence interval to be 0.2 at 95% confidence. What sample size should be used? Assume that lwage is a normally distributed random variable with standard deviation σ = 0.44.\n",
    "\n",
    "alpha = 0.05\n",
    "E = 0.2\n",
    "z_alpha_half = norm.ppf(1-alpha/2)\n",
    "\n",
    "result_12 = (z_alpha_half*0.44/E)**2\n",
    "\n",
    "print(\"Result of question 12: \", result_12)"
   ]
  },
  {
   "cell_type": "code",
   "execution_count": 414,
   "metadata": {},
   "outputs": [
    {
     "name": "stdout",
     "output_type": "stream",
     "text": [
      "Result of question 13:  0.4449745778818235  < p <  0.8883587554515098\n"
     ]
    }
   ],
   "source": [
    "#13. Calculate a 99% confidence interval on the true proportion of all people who near 4-year college (nearc4).\n",
    "nearc4_sample_count = np.sum(sample['nearc4'] == 1)\n",
    "nearc4_sample_prop = nearc4_sample_count / 30\n",
    "alpha = 0.01\n",
    "z_alpha_half = norm.ppf(1-alpha/2)\n",
    "\n",
    "nearc4_lower_CI = nearc4_sample_prop - z_alpha_half * sqrt( (nearc4_sample_prop*(1-nearc4_sample_prop)) / 30 )\n",
    "nearc4_higher_CI = nearc4_sample_prop + z_alpha_half * sqrt( (nearc4_sample_prop*(1-nearc4_sample_prop)) / 30 )\n",
    "\n",
    "print(\"Result of question 13: \", nearc4_lower_CI, \" < p < \", nearc4_higher_CI)"
   ]
  },
  {
   "cell_type": "code",
   "execution_count": 415,
   "metadata": {},
   "outputs": [
    {
     "name": "stdout",
     "output_type": "stream",
     "text": [
      "Result of question 14:  9215.134168085018\n"
     ]
    }
   ],
   "source": [
    "#14. If we want the error in estimating the proportion of blacks from two-size confidence interval to be 0.01 at 99% confidence. What sample size should be used?\n",
    "\n",
    "alpha = 0.01\n",
    "E = 0.01\n",
    "z_alpha_half = z_alpha_half = norm.ppf(1-alpha/2)\n",
    "\n",
    "black_prop = np.sum(sample['black'] == 1) / 30\n",
    "\n",
    "result_14 = ((z_alpha_half/E)**2)*black_prop*(1-black_prop)\n",
    "print(\"Result of question 14: \", result_14)\n"
   ]
  },
  {
   "cell_type": "code",
   "execution_count": 416,
   "metadata": {},
   "outputs": [
    {
     "name": "stdout",
     "output_type": "stream",
     "text": [
      "Fail to reject H0\n"
     ]
    }
   ],
   "source": [
    "#15. Use your subsample to test the hypothesis H0: mean(IQ) = 100 against H1: mean(IQ) ≠ 100 at  . Assume that IQ is a normally distributed random variable with standard deviation σ = 15.\n",
    "\n",
    "IQ_sample_mean = sample['IQ'].mean()\n",
    "\n",
    "z0 = (IQ_sample_mean - 100)/(15/sqrt(30))\n",
    "alpha = 0.02\n",
    "z_alpha_half = norm.ppf(1-alpha/2)\n",
    "\n",
    "if( z0 < -z_alpha_half or z0 > z_alpha_half ):\n",
    "    print(\"Reject H0\")\n",
    "else:\n",
    "    print(\"Fail to reject H0\")\n"
   ]
  },
  {
   "cell_type": "code",
   "execution_count": 417,
   "metadata": {},
   "outputs": [
    {
     "name": "stdout",
     "output_type": "stream",
     "text": [
      "Reject H0\n"
     ]
    }
   ],
   "source": [
    "#16. Use your subsample to test the hypothesis H0: mean(lwage) = 6 against H1: mean(lwage) > 6 at  . Assume that lwage is a normally distributed random variable.\n",
    "lwage_sample_mean = sample['lwage'].mean()\n",
    "\n",
    "lwage_sample_std = sample['lwage'].std()\n",
    "\n",
    "t0 = (lwage_sample_mean-6)/(lwage_sample_std/sqrt(30))\n",
    "alpha = 0.1\n",
    "t_alpha = t.ppf(1-alpha,29)\n",
    "\n",
    "if( t0 > t_alpha ):\n",
    "    print(\"Reject H0\")\n",
    "else:\n",
    "    print(\"Fail to reject H0\")\n"
   ]
  },
  {
   "cell_type": "code",
   "execution_count": 418,
   "metadata": {},
   "outputs": [
    {
     "name": "stdout",
     "output_type": "stream",
     "text": [
      "Failed to reject H0\n"
     ]
    }
   ],
   "source": [
    "#17. It is argued that the proportion of people with less than 10 years of work experience is not more than 0.07. Use the given data to test this argument at.\n",
    "p0 = 0.07\n",
    "alpha = 0.02\n",
    "\n",
    "num = np.sum(sample['exper'] < 10)\n",
    "z0 = (num-p0*30)/(sqrt(30*p0*(1-p0)))\n",
    "z_alpha = norm.ppf(1-alpha)\n",
    "\n",
    "if( z0 < -z_alpha ):\n",
    "    print(\"Reject H0\")\n",
    "else:\n",
    "    print(\"Failed to reject H0\")\n"
   ]
  },
  {
   "cell_type": "code",
   "execution_count": 419,
   "metadata": {},
   "outputs": [
    {
     "name": "stdout",
     "output_type": "stream",
     "text": [
      "A\n",
      "Reject H0\n"
     ]
    }
   ],
   "source": [
    "# 18.\tAssume that the variables are normally distributed and the variance within each population be equal for all populations. \n",
    "# a.\tTest the difference between the averages wage by variable black at 1% significance level based on the subsample.\n",
    "# b.\tTest the difference between two independent population proportions that people with low IQ (IQ < 90) by variable black at 5% significance level based on the data.\n",
    "# c.\tTest the difference between the variances lwage by variable black at 1% significance level based on the subsample.\n",
    "\n",
    "# A\n",
    "print(\"A:\")\n",
    "wage_sample_mean = sample['wage'].mean()\n",
    "black_sample_mean = sample['black'].mean()\n",
    "\n",
    "wage_sample_var = sample['wage'].std()**2\n",
    "black_sample_var = sample['black'].std()**2\n",
    "\n",
    "alpha = 0.01\n",
    "z_alpha = norm.ppf(1-alpha)\n",
    "# delta_0 = 0\n",
    "z0 = (wage_sample_mean-black_sample_mean-0)/sqrt(wage_sample_var/30+black_sample_var/30)\n",
    "if( z0 > z_alpha ):\n",
    "    print(\"Reject H0\")\n",
    "else:\n",
    "    print(\"Failed to reject H0\")\n",
    "\n",
    "# B\n",
    "print(\"B: \")\n",
    "IQ_sample_mean = sample['IQ'].mean()\n",
    "\n",
    "IQ_sample_var = sample['IQ'].std()**2\n",
    "alpha = 0.05\n",
    "z_alpha = norm.ppf(1-alpha)\n",
    "\n",
    "z0 = (IQ_sample_mean-black_sample_mean-0)/sqrt(IQ_sample_var/30+black_sample_var/30)\n",
    "if( z0 > z_alpha ):\n",
    "    print(\"Reject H0\")\n",
    "else:\n",
    "    print(\"Failed to reject H0\")\n",
    "\n",
    "\n",
    "\n"
   ]
  }
 ],
 "metadata": {
  "kernelspec": {
   "display_name": "Python 3",
   "language": "python",
   "name": "python3"
  },
  "language_info": {
   "codemirror_mode": {
    "name": "ipython",
    "version": 3
   },
   "file_extension": ".py",
   "mimetype": "text/x-python",
   "name": "python",
   "nbconvert_exporter": "python",
   "pygments_lexer": "ipython3",
   "version": "3.10.4"
  },
  "orig_nbformat": 4
 },
 "nbformat": 4,
 "nbformat_minor": 2
}
